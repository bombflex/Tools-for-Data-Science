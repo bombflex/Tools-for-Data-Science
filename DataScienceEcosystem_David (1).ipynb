{
 "cells": [
  {
   "cell_type": "markdown",
   "id": "a18ec7b5-440a-47a4-9a68-3c6244303c8d",
   "metadata": {},
   "source": [
    "# Data Science Tools and Ecosystem"
   ]
  },
  {
   "cell_type": "markdown",
   "id": "303329cc-7b50-41f1-b6fa-b0da42c48d81",
   "metadata": {},
   "source": [
    "## Introduction"
   ]
  },
  {
   "cell_type": "markdown",
   "id": "f9c09918-6b5b-4ac9-a297-d91013f64d2f",
   "metadata": {},
   "source": [
    "In this notebook, Data Science Tools and Ecosystem are summarized."
   ]
  },
  {
   "cell_type": "markdown",
   "id": "ca5e0a65-7b25-42f0-b6c5-a47d998d27f5",
   "metadata": {},
   "source": [
    "**Objectives:**\n",
    "* List popular tools for Data Science\n",
    "* List various languages used in Data Science\n",
    "* List various libraries used in Data Science\n",
    "* Introduction to GitHub\n"
   ]
  },
  {
   "cell_type": "markdown",
   "id": "916d1d31-f8cc-4e8c-8f2c-560ceed96c49",
   "metadata": {},
   "source": [
    "Some of the popular languages that Data Scientists use are:\n",
    "1. Python\n",
    "1. R\n",
    "1. Java"
   ]
  },
  {
   "cell_type": "markdown",
   "id": "30a5a6f3-3982-4ca2-8fd7-5164dea84490",
   "metadata": {},
   "source": [
    "Some of the commonly used libraries used by Data Scientists include:\n",
    "1. Pandas\n",
    "1. Numpy\n",
    "1. Matplotlib"
   ]
  },
  {
   "cell_type": "markdown",
   "id": "9b716555-be75-4b09-a50a-6b6a041422b9",
   "metadata": {},
   "source": [
    "|Data Science Tools |\n",
    "|----------------- |\n",
    "|Jupyter Notebook |\n",
    "|RStudio|\n",
    "|IBM Watson Studio|"
   ]
  },
  {
   "cell_type": "markdown",
   "id": "5743b28e-e401-4287-8253-167022528590",
   "metadata": {},
   "source": [
    "### Below are a few examples of evaluating arithmetic expressions in Python"
   ]
  },
  {
   "cell_type": "code",
   "execution_count": 3,
   "id": "aac83c8d-aa74-4d18-93d6-28aa5211cb78",
   "metadata": {},
   "outputs": [
    {
     "data": {
      "text/plain": [
       "17"
      ]
     },
     "execution_count": 3,
     "metadata": {},
     "output_type": "execute_result"
    }
   ],
   "source": [
    "# This a simple arithmetic expression to mutiply then add integers\n",
    "(3*4)+5"
   ]
  },
  {
   "cell_type": "code",
   "execution_count": 4,
   "id": "62227a84-787c-4ead-a1e7-215c25df6b37",
   "metadata": {},
   "outputs": [
    {
     "data": {
      "text/plain": [
       "3.3333333333333335"
      ]
     },
     "execution_count": 4,
     "metadata": {},
     "output_type": "execute_result"
    }
   ],
   "source": [
    "# This will convert 200 minutes to hours by diving by 60\n",
    "200/60"
   ]
  },
  {
   "cell_type": "markdown",
   "id": "937be457-4f77-4ad9-ad00-f2e6eed429b5",
   "metadata": {},
   "source": [
    "## Author\n",
    "David TONDE"
   ]
  }
 ],
 "metadata": {
  "kernelspec": {
   "display_name": "Python 3 (ipykernel)",
   "language": "python",
   "name": "python3"
  },
  "language_info": {
   "codemirror_mode": {
    "name": "ipython",
    "version": 3
   },
   "file_extension": ".py",
   "mimetype": "text/x-python",
   "name": "python",
   "nbconvert_exporter": "python",
   "pygments_lexer": "ipython3",
   "version": "3.11.9"
  }
 },
 "nbformat": 4,
 "nbformat_minor": 5
}
